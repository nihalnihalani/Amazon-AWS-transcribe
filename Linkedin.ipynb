{
  "nbformat": 4,
  "nbformat_minor": 0,
  "metadata": {
    "colab": {
      "name": "Untitled19.ipynb",
      "provenance": [],
      "private_outputs": true,
      "authorship_tag": "ABX9TyMNHm2Zl9HhXU0Ba4q2kYem",
      "include_colab_link": true
    },
    "kernelspec": {
      "name": "python3",
      "display_name": "Python 3"
    }
  },
  "cells": [
    {
      "cell_type": "markdown",
      "metadata": {
        "id": "view-in-github",
        "colab_type": "text"
      },
      "source": [
        "<a href=\"https://colab.research.google.com/github/nihalnihalani/linkedin-auto-connect/blob/master/Linkedin.ipynb\" target=\"_parent\"><img src=\"https://colab.research.google.com/assets/colab-badge.svg\" alt=\"Open In Colab\"/></a>"
      ]
    },
    {
      "cell_type": "code",
      "metadata": {
        "id": "nfoaV6_142BS",
        "colab_type": "code",
        "colab": {}
      },
      "source": [
        "from google.colab import drive\n",
        "drive.mount('/gdrive')"
      ],
      "execution_count": null,
      "outputs": []
    },
    {
      "cell_type": "code",
      "metadata": {
        "id": "nNX6a_UE42-T",
        "colab_type": "code",
        "colab": {}
      },
      "source": [
        "import pandas as pd"
      ],
      "execution_count": null,
      "outputs": []
    },
    {
      "cell_type": "code",
      "metadata": {
        "id": "3WcYJH5l47lg",
        "colab_type": "code",
        "colab": {}
      },
      "source": [
        "df = pd.read_excel('/gdrive/My Drive/linkedin/linkedin recruiters.xlsx') \n",
        "OriginalMatrix=df\n",
        "df.head(10)\n",
        "print(df.shape)\n",
        "df.head(25)"
      ],
      "execution_count": null,
      "outputs": []
    }
  ]
}